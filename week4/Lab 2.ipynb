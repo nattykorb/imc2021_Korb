{
 "cells": [
  {
   "cell_type": "code",
   "execution_count": null,
   "metadata": {},
   "outputs": [],
   "source": [
    "import numpy as np\n",
    "import matplotlib.pylab as plt\n",
    "import librosa.display\n",
    "import IPython.display\n",
    "import librosa"
   ]
  },
  {
   "cell_type": "code",
   "execution_count": null,
   "metadata": {},
   "outputs": [],
   "source": [
    "def plotAudio3(sig,sampleRate,title):\n",
    "    \n",
    "    # this version expects the audio file to have already been opened by librosa\n",
    "    \n",
    "    # Adjust the x-axis to represent time\n",
    "    time=np.arange(0,sig.shape[0])/sr\n",
    "    \n",
    "    # Scale the y-axis to represent amplitude from -1 to 1\n",
    "    excursion=max(abs(sig))\n",
    "    sigNew = sig / excursion\n",
    "    \n",
    "    # Label the x and y axes with variables\n",
    "    xlabel = 'Time (seconds)'\n",
    "    ylabel = 'Amplitude'\n",
    "\n",
    "    # Plot the signal using the x and y axis variables    \n",
    "    plt.plot(time,sigNew)\n",
    "    plt.xlabel(xlabel)\n",
    "    plt.ylabel(ylabel)\n",
    "    plt.title(title)\n",
    "    plt.show()"
   ]
  },
  {
   "cell_type": "code",
   "execution_count": null,
   "metadata": {},
   "outputs": [],
   "source": [
    "def subplots(plotPos,title,data,color,ylabel,xlabel):\n",
    "    plt.subplot(plotPos[0],plotPos[1],plotPos[2])\n",
    "    plt.title(title)\n",
    "    plt.plot(data,color)\n",
    "    plt.ylabel(ylabel)\n",
    "    plt.xlabel(xlabel)"
   ]
  },
  {
   "cell_type": "code",
   "execution_count": null,
   "metadata": {},
   "outputs": [],
   "source": [
    "def makeEchoes(sig,sr,sec,echoes):\n",
    "\n",
    "    #calculate the number of bytes which corresponds to the offset in milliseconds\n",
    "    offset=np.int(sr*sec)\n",
    "    \n",
    "    #add extra space at the end for the delays\n",
    "    ending = np.zeros((offset*(len(echoes))))\n",
    "    \n",
    "    delayedSig = np.concatenate((sig,ending))\n",
    "    \n",
    "    for i in range(len(echoes)):\n",
    "        \n",
    "        #create some silence\n",
    "        # python indexes starting with zero which is why you need to add one\n",
    "        beginning = np.zeros(offset*(i+1))\n",
    "        \n",
    "        #create delayed version of signal\n",
    "        delay = np.concatenate((beginning,sig))\n",
    "        delay = delay * echoes[i]\n",
    "\n",
    "        #pad the end of delay with zeros to make it the same length as delaysedSig\n",
    "        delay = np.concatenate((delay,np.zeros((delayedSig.size-delay.size))))\n",
    "        \n",
    "        # combine with output signal\n",
    "        delayedSig = delayedSig + delay\n",
    "    \n",
    "    return delayedSig"
   ]
  },
  {
   "cell_type": "code",
   "execution_count": null,
   "metadata": {},
   "outputs": [],
   "source": [
    "def amplitudeModulation(carrier,modulatorFreq,modulatorAmp,modIndex):\n",
    "    timeSeries = np.linspace(0, 1, len(carrier))\n",
    "    modulator = modulatorAmp * np.cos (2 * np.pi * modulatorFreq * timeSeries)\n",
    "    product = (1 + modIndex * modulator) * carrier\n",
    "    \n",
    "    subplots([3,1,1],'Amplitude Modulation',modulator,'g','Amplitude','Modulator signal')\n",
    "    subplots([3,1,2],'Amplitude Modulation',carrier,'r','Amplitude','Carrier signal')\n",
    "    subplots([3,1,3],'Amplitude Modulation',product,'purple','Amplitude','AM signal')\n",
    "    \n",
    "    plt.subplots_adjust(hspace=1)\n",
    "    plt.rc('font', size=15)\n",
    "    fig = plt.gcf()\n",
    "    fig.set_size_inches(16, 9)\n",
    "    \n",
    "    return product"
   ]
  },
  {
   "cell_type": "code",
   "execution_count": null,
   "metadata": {},
   "outputs": [],
   "source": [
    "def echoAM(sig,sr,sec,echoes,modulatorFreq,modulatorAmp,modIndex):\n",
    "    plotAudio3(sig,sampleRate,'Original Signal')\n",
    "    echoSig = makeEchoes(sig,sr,delay,echoes)\n",
    "    plotAudio3(echoSig,sr,'DelayedSignal')\n",
    "    modSignal=amplitudeModulation(echoSig,modulatorFreq,modulatorAmp,modIndex)\n",
    "    return modSignal"
   ]
  },
  {
   "cell_type": "code",
   "execution_count": null,
   "metadata": {},
   "outputs": [],
   "source": [
    "sig , sr = librosa.load('avm.wav')\n",
    "IPython.display.Audio(data=sig, rate=sr)"
   ]
  },
  {
   "cell_type": "code",
   "execution_count": null,
   "metadata": {},
   "outputs": [],
   "source": [
    "sec = 0.5\n",
    "echoes = [1,1,1]\n",
    "modulatorFreq = 20\n",
    "modulatorAmp = 0.5\n",
    "modIndex = 1\n",
    "\n",
    "echoAM(sig,sr,sec,echoes,modulatorFreq,modulatorAmp,modIndex)"
   ]
  },
  {
   "cell_type": "code",
   "execution_count": null,
   "metadata": {},
   "outputs": [],
   "source": [
    "delay = 0.5\n",
    "echoes = [1,1,1]\n",
    "modulatorFreq = 20\n",
    "modulatorAmp = 0.5\n",
    "modIndex = 1\n",
    "modSignal1 = echoAM(sig,sr,delay,echoes,modulatorFreq,modulatorAmp,modIndex)"
   ]
  },
  {
   "cell_type": "code",
   "execution_count": null,
   "metadata": {},
   "outputs": [],
   "source": []
  }
 ],
 "metadata": {
  "kernelspec": {
   "display_name": "Python 3",
   "language": "python",
   "name": "python3"
  },
  "language_info": {
   "codemirror_mode": {
    "name": "ipython",
    "version": 3
   },
   "file_extension": ".py",
   "mimetype": "text/x-python",
   "name": "python",
   "nbconvert_exporter": "python",
   "pygments_lexer": "ipython3",
   "version": "3.8.5"
  }
 },
 "nbformat": 4,
 "nbformat_minor": 4
}
