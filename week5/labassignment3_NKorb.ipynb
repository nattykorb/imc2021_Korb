{
 "cells": [
  {
   "cell_type": "code",
   "execution_count": 2,
   "metadata": {},
   "outputs": [],
   "source": [
    "import numpy as np\n",
    "import librosa\n",
    "import librosa.display\n",
    "import matplotlib.pyplot as plt"
   ]
  },
  {
   "cell_type": "code",
   "execution_count": null,
   "metadata": {},
   "outputs": [],
   "source": [
    "def plotAudio3(sig,sampleRate,title):\n",
    "    \n",
    "    # this version expects the audio file to have already been opened by librosa\n",
    "    \n",
    "    # Adjust the x-axis to represent time\n",
    "    time=np.arange(0,sig.shape[0])/sr\n",
    "    \n",
    "    # Scale the y-axis to represent amplitude from -1 to 1\n",
    "    excursion=max(abs(sig))\n",
    "    sigNew = sig / excursion\n",
    "    \n",
    "    # Label the x and y axes with variables\n",
    "    xlabel = 'Time (seconds)'\n",
    "    ylabel = 'Amplitude'\n",
    "\n",
    "    # Plot the signal using the x and y axis variables    \n",
    "    plt.plot(time,sigNew)\n",
    "    plt.xlabel(xlabel)\n",
    "    plt.ylabel(ylabel)\n",
    "    plt.title(title)\n",
    "    plt.show()"
   ]
  },
  {
   "cell_type": "code",
   "execution_count": 5,
   "metadata": {},
   "outputs": [],
   "source": [
    "def plotAudioFreqDomain(sig,sr,title,winSize,specType):\n",
    "    spec = spec = librosa.amplitude_to_db(np.abs(librosa.stft(sig)), ref=np.max)\n",
    "    librosa.display.specshow(spec, y_axis='linear')\n",
    "    plt.colorbar(format='%+2.0f dB')\n",
    "    plt.title('Linear-frequency power spectrogram')\n",
    "    plt.show()"
   ]
  },
  {
   "cell_type": "code",
   "execution_count": null,
   "metadata": {},
   "outputs": [],
   "source": [
    "def plotAudioFunc(sig,sr,title,winSize,specType):\n",
    "    plotAudio3(sig,sampleRate,title)\n",
    "    plotAudioFreqDomain(sig,sr,title,winSize,specType)\n",
    "   \n",
    "    "
   ]
  }
 ],
 "metadata": {
  "kernelspec": {
   "display_name": "Python 3",
   "language": "python",
   "name": "python3"
  },
  "language_info": {
   "codemirror_mode": {
    "name": "ipython",
    "version": 3
   },
   "file_extension": ".py",
   "mimetype": "text/x-python",
   "name": "python",
   "nbconvert_exporter": "python",
   "pygments_lexer": "ipython3",
   "version": "3.8.5"
  }
 },
 "nbformat": 4,
 "nbformat_minor": 4
}
